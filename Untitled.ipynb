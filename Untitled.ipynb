{
 "cells": [
  {
   "cell_type": "code",
   "execution_count": 1,
   "id": "bd8465d7-2621-4096-85a5-86fb2029c95e",
   "metadata": {},
   "outputs": [
    {
     "name": "stdout",
     "output_type": "stream",
     "text": [
      "Date\n",
      "2020-02-29    0.096562\n",
      "2020-03-31    0.029123\n",
      "2020-04-30   -0.114013\n",
      "2020-05-31    0.006407\n",
      "2020-06-30   -0.020916\n",
      "Freq: ME, Name: Adj Close, dtype: float64\n"
     ]
    },
    {
     "name": "stderr",
     "output_type": "stream",
     "text": [
      "/Users/srinivasam/Desktop/equity-factor-backtest-ml/factors/momentum.py:7: FutureWarning: 'M' is deprecated and will be removed in a future version, please use 'ME' instead.\n",
      "  monthly_price = df['Adj Close'].resample('M').last()\n"
     ]
    }
   ],
   "source": [
    "from utils.data_loader import load_stock_data\n",
    "from factors.momentum import calculate_momentum\n",
    "\n",
    "df = load_stock_data(\"INFY.NS\")\n",
    "momentum = calculate_momentum(df)\n",
    "\n",
    "print(momentum.tail())"
   ]
  },
  {
   "cell_type": "code",
   "execution_count": null,
   "id": "9da2d00f-9f93-45e3-965f-d2117409c2b3",
   "metadata": {},
   "outputs": [],
   "source": []
  }
 ],
 "metadata": {
  "kernelspec": {
   "display_name": "Python 3 (ipykernel)",
   "language": "python",
   "name": "python3"
  },
  "language_info": {
   "codemirror_mode": {
    "name": "ipython",
    "version": 3
   },
   "file_extension": ".py",
   "mimetype": "text/x-python",
   "name": "python",
   "nbconvert_exporter": "python",
   "pygments_lexer": "ipython3",
   "version": "3.11.3"
  }
 },
 "nbformat": 4,
 "nbformat_minor": 5
}
