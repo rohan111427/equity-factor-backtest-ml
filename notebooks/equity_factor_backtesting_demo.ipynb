{
 "cells": [
  {
   "cell_type": "markdown",
   "metadata": {},
   "source": [
    "# Equity Factor Backtesting Demo\n",
    "\n",
    "This notebook demonstrates how to use the equity factor backtesting framework to:\n",
    "1. Load market data\n",
    "2. Calculate factor scores\n",
    "3. Run backtests\n",
    "4. Analyze performance\n"
   ]
  },
  {
   "cell_type": "code",
   "execution_count": null,
   "metadata": {},
   "outputs": [],
   "source": [
    "import sys\n",
    "import os\n",
    "\n",
    "# Add src to path\n",
    "sys.path.append('../src')\n",
    "\n",
    "import pandas as pd\n",
    "import numpy as np\n",
    "import matplotlib.pyplot as plt\n",
    "\n",
    "# Import our framework\n",
    "from equity_backtesting import BacktestEngine, FactorLibrary, DataProvider, PerformanceAnalytics\n",
    "from equity_backtesting.backtesting.engine import BacktestConfig, StrategyConfig, create_default_backtest\n",
    "\n",
    "# Set up plotting\n",
    "plt.style.use('seaborn-v0_8')\n",
    "%matplotlib inline\n",
    "\n",
    "print(\"Framework imported successfully!\")"
   ]
  },
  {
   "cell_type": "markdown",
   "metadata": {},
   "source": [
    "## 1. Create a Simple Momentum Strategy"
   ]
  },
  {
   "cell_type": "code",
   "execution_count": null,
   "metadata": {},
   "outputs": [],
   "source": [
    "# Define our strategy: equal-weighted momentum factors\n",
    "strategy_factors = {\n",
    "    'momentum_3m': 0.5,\n",
    "    'momentum_6m': 0.5\n",
    "}\n",
    "\n",
    "# Create backtest configuration\n",
    "backtest_config, strategy_config = create_default_backtest(\n",
    "    factors=strategy_factors,\n",
    "    start_date=\"2020-01-01\",\n",
    "    end_date=\"2023-12-31\"\n",
    ")\n",
    "\n",
    "print(f\"Universe size: {len(backtest_config.universe)}\")\n",
    "print(f\"Strategy factors: {strategy_config.factors}\")"
   ]
  },
  {
   "cell_type": "markdown",
   "metadata": {},
   "source": [
    "## 2. Run the Backtest"
   ]
  },
  {
   "cell_type": "code",
   "execution_count": null,
   "metadata": {},
   "outputs": [],
   "source": [
    "# Initialize backtest engine\n",
    "engine = BacktestEngine(backtest_config)\n",
    "\n",
    "# Run the backtest\n",
    "print(\"Running backtest... (this may take a few minutes)\")\n",
    "results = engine.run_backtest(strategy_config)\n",
    "\n",
    "print(f\"Backtest completed!\")\n",
    "print(f\"Portfolio returns shape: {results['portfolio_returns'].shape}\")\n",
    "print(f\"First few returns:\")\n",
    "print(results['portfolio_returns'].head())"
   ]
  },
  {
   "cell_type": "markdown",
   "metadata": {},
   "source": [
    "## 3. Performance Analysis"
   ]
  },
  {
   "cell_type": "code",
   "execution_count": null,
   "metadata": {},
   "outputs": [],
   "source": [
    "# Initialize performance analytics\n",
    "analytics = PerformanceAnalytics(results)\n",
    "\n",
    "# Generate performance report\n",
    "performance_report = analytics.generate_performance_report()\n",
    "print(\"Performance Metrics:\")\n",
    "print(\"=\" * 50)\n",
    "print(performance_report)"
   ]
  },
  {
   "cell_type": "markdown",
   "metadata": {},
   "source": [
    "## 4. Visualizations"
   ]
  },
  {
   "cell_type": "code",
   "execution_count": null,
   "metadata": {},
   "outputs": [],
   "source": [
    "# Plot cumulative returns\n",
    "fig = analytics.plot_cumulative_returns(figsize=(12, 6))\n",
    "plt.show()"
   ]
  },
  {
   "cell_type": "code",
   "execution_count": null,
   "metadata": {},
   "outputs": [],
   "source": [
    "# Plot drawdown\n",
    "fig = analytics.plot_drawdown(figsize=(12, 4))\n",
    "plt.show()"
   ]
  },
  {
   "cell_type": "code",
   "execution_count": null,
   "metadata": {},
   "outputs": [],
   "source": [
    "# Risk-return scatter\n",
    "fig = analytics.plot_risk_return_scatter(figsize=(8, 6))\n",
    "plt.show()"
   ]
  },
  {
   "cell_type": "markdown",
   "metadata": {},
   "source": [
    "## 5. Compare Different Strategies"
   ]
  },
  {
   "cell_type": "code",
   "execution_count": null,
   "metadata": {},
   "outputs": [],
   "source": [
    "# Let's compare different factor combinations\n",
    "strategies_to_test = {\n",
    "    'Momentum Only': {'momentum_3m': 1.0},\n",
    "    'Low Vol Only': {'low_volatility': 1.0},\n",
    "    'Value Only': {'value': 1.0},\n",
    "    'Balanced': {'momentum_3m': 0.4, 'low_volatility': 0.3, 'value': 0.3}\n",
    "}\n",
    "\n",
    "strategy_results = {}\n",
    "\n",
    "for strategy_name, factors in strategies_to_test.items():\n",
    "    print(f\"Testing {strategy_name}...\")\n",
    "    \n",
    "    # Create configs\n",
    "    test_backtest_config, test_strategy_config = create_default_backtest(\n",
    "        factors=factors,\n",
    "        start_date=\"2021-01-01\",  # Shorter period for faster testing\n",
    "        end_date=\"2023-12-31\"\n",
    "    )\n",
    "    \n",
    "    # Run backtest\n",
    "    test_engine = BacktestEngine(test_backtest_config)\n",
    "    test_results = test_engine.run_backtest(test_strategy_config)\n",
    "    \n",
    "    # Store results\n",
    "    strategy_results[strategy_name] = test_results['portfolio_returns']\n",
    "\n",
    "print(\"All strategies tested!\")"
   ]
  },
  {
   "cell_type": "code",
   "execution_count": null,
   "metadata": {},
   "outputs": [],
   "source": [
    "# Compare cumulative returns\n",
    "fig, ax = plt.subplots(figsize=(12, 8))\n",
    "\n",
    "for strategy_name, returns in strategy_results.items():\n",
    "    cumulative = (1 + returns).cumprod()\n",
    "    ax.plot(cumulative.index, cumulative.values, label=strategy_name, linewidth=2)\n",
    "\n",
    "ax.set_title('Strategy Comparison: Cumulative Returns', fontsize=16, fontweight='bold')\n",
    "ax.set_xlabel('Date', fontsize=12)\n",
    "ax.set_ylabel('Cumulative Return', fontsize=12)\n",
    "ax.legend(fontsize=12)\n",
    "ax.grid(True, alpha=0.3)\n",
    "\n",
    "# Format y-axis as percentage\n",
    "ax.yaxis.set_major_formatter(plt.FuncFormatter(lambda y, _: '{:.0%}'.format(y-1)))\n",
    "\n",
    "plt.tight_layout()\n",
    "plt.show()"
   ]
  },
  {
   "cell_type": "code",
   "execution_count": null,
   "metadata": {},
   "outputs": [],
   "source": [
    "# Calculate summary metrics for each strategy\n",
    "summary_metrics = []\n",
    "\n",
    "for strategy_name, returns in strategy_results.items():\n",
    "    returns = returns.dropna()\n",
    "    \n",
    "    total_return = (1 + returns).prod() - 1\n",
    "    volatility = returns.std() * np.sqrt(252)\n",
    "    sharpe = returns.mean() / returns.std() * np.sqrt(252) if returns.std() > 0 else 0\n",
    "    \n",
    "    # Max drawdown\n",
    "    cumulative = (1 + returns).cumprod()\n",
    "    running_max = cumulative.cummax()\n",
    "    drawdown = (cumulative - running_max) / running_max\n",
    "    max_dd = drawdown.min()\n",
    "    \n",
    "    summary_metrics.append({\n",
    "        'Strategy': strategy_name,\n",
    "        'Total Return': f\"{total_return:.1%}\",\n",
    "        'Volatility': f\"{volatility:.1%}\",\n",
    "        'Sharpe Ratio': f\"{sharpe:.2f}\",\n",
    "        'Max Drawdown': f\"{max_dd:.1%}\"\n",
    "    })\n",
    "\n",
    "summary_df = pd.DataFrame(summary_metrics)\n",
    "print(\"Strategy Comparison Summary:\")\n",
    "print(\"=\" * 60)\n",
    "print(summary_df.to_string(index=False))"
   ]
  },
  {
   "cell_type": "markdown",
   "metadata": {},
   "source": [
    "## 6. Factor Analysis"
   ]
  },
  {
   "cell_type": "code",
   "execution_count": null,
   "metadata": {},
   "outputs": [],
   "source": [
    "# Let's examine individual factors\n",
    "factor_lib = FactorLibrary()\n",
    "data_provider = DataProvider()\n",
    "\n",
    "print(\"Available factors:\")\n",
    "for category in ['momentum', 'value', 'low_volatility', 'size', 'quality']:\n",
    "    factors = factor_lib.get_factors_by_category(category)\n",
    "    print(f\"  {category.title()}: {factors}\")"
   ]
  },
  {
   "cell_type": "markdown",
   "metadata": {},
   "source": [
    "## 7. Export Results"
   ]
  },
  {
   "cell_type": "code",
   "execution_count": null,
   "metadata": {},
   "outputs": [],
   "source": [
    "# Save results to CSV\n",
    "output_dir = '../data'\n",
    "os.makedirs(output_dir, exist_ok=True)\n",
    "\n",
    "# Save portfolio returns\n",
    "results['portfolio_returns'].to_csv(f\"{output_dir}/portfolio_returns.csv\")\n",
    "\n",
    "# Save performance metrics\n",
    "performance_report.to_csv(f\"{output_dir}/performance_metrics.csv\")\n",
    "\n",
    "# Save strategy comparison\n",
    "summary_df.to_csv(f\"{output_dir}/strategy_comparison.csv\", index=False)\n",
    "\n",
    "print(\"Results saved to data/ directory\")"
   ]
  },
  {
   "cell_type": "markdown",
   "metadata": {},
   "source": [
    "## Conclusion\n",
    "\n",
    "This notebook demonstrated the basic usage of the equity factor backtesting framework:\n",
    "\n",
    "1. **Strategy Definition**: We defined factor-based strategies with different weights\n",
    "2. **Backtesting**: We ran comprehensive backtests with transaction costs and rebalancing\n",
    "3. **Performance Analysis**: We calculated key risk and return metrics\n",
    "4. **Visualization**: We created charts to understand strategy performance\n",
    "5. **Comparison**: We compared different factor combinations\n",
    "\n",
    "### Next Steps\n",
    "\n",
    "- Experiment with different factor combinations\n",
    "- Try different rebalancing frequencies\n",
    "- Implement custom factors\n",
    "- Add sector neutralization\n",
    "- Optimize factor weights using machine learning\n"
   ]
  }
 ],
 "metadata": {
  "kernelspec": {
   "display_name": "Python 3",
   "language": "python",
   "name": "python3"
  },
  "language_info": {
   "codemirror_mode": {
    "name": "ipython",
    "version": 3
   },
   "file_extension": ".py",
   "mimetype": "text/x-python",
   "name": "python",
   "nbconvert_exporter": "python",
   "pygments_lexer": "ipython3",
   "version": "3.9.0"
  }
 },
 "nbformat": 4,
 "nbformat_minor": 4
}