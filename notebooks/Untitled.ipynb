{
 "cells": [
  {
   "cell_type": "code",
   "execution_count": null,
   "id": "b18b410d-6a53-46c9-b559-bb17732870ab",
   "metadata": {},
   "outputs": [],
   "source": []
  }
 ],
 "metadata": {
  "kernelspec": {
   "display_name": "",
   "name": ""
  },
  "language_info": {
   "name": ""
  }
 },
 "nbformat": 4,
 "nbformat_minor": 5
}
